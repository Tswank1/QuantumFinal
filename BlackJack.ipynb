{
 "cells": [
  {
   "cell_type": "code",
   "execution_count": null,
   "id": "64eaedae",
   "metadata": {
    "scrolled": false
   },
   "outputs": [
    {
     "name": "stdout",
     "output_type": "stream",
     "text": [
      "Here is my take on Black Jack but with Quantum Randomness!\n",
      "Would you like a description?: (yes/no)yes\n",
      "There are cards ranging from binary 0000 to 1111 so 16 different options\n",
      "Regular Black Jack has 12 different cards and the goal is 21\n",
      "In my version there are 16 different cards and the goal is 28 or 11100\n",
      "The dealer will not hit if their cards are 21 or greater, GoodLuck!\n"
     ]
    },
    {
     "name": "stderr",
     "output_type": "stream",
     "text": [
      "ibmqfactory.load_account:WARNING:2023-12-12 19:43:54,029: Credentials are already in use. The existing account in the session will be replaced.\n"
     ]
    },
    {
     "name": "stdout",
     "output_type": "stream",
     "text": [
      "Dealer shows first card:  1011\n"
     ]
    },
    {
     "name": "stderr",
     "output_type": "stream",
     "text": [
      "ibmqfactory.load_account:WARNING:2023-12-12 19:44:06,179: Credentials are already in use. The existing account in the session will be replaced.\n",
      "ibmqfactory.load_account:WARNING:2023-12-12 19:44:16,738: Credentials are already in use. The existing account in the session will be replaced.\n"
     ]
    },
    {
     "name": "stdout",
     "output_type": "stream",
     "text": [
      "Your delt a  1  and a 1001 totaling in a  1010\n",
      "Choose Option: (1) Hit, (2) Stay, (3) Double Down\n",
      "Choice: 1\n",
      "Hit!\n"
     ]
    },
    {
     "name": "stderr",
     "output_type": "stream",
     "text": [
      "ibmqfactory.load_account:WARNING:2023-12-12 19:44:47,802: Credentials are already in use. The existing account in the session will be replaced.\n"
     ]
    },
    {
     "name": "stdout",
     "output_type": "stream",
     "text": [
      "You hit a  10\n",
      "Your total currently is  1100\n",
      "Choice: 1\n",
      "Hit!\n"
     ]
    },
    {
     "name": "stderr",
     "output_type": "stream",
     "text": [
      "ibmqfactory.load_account:WARNING:2023-12-12 19:45:01,882: Credentials are already in use. The existing account in the session will be replaced.\n"
     ]
    },
    {
     "name": "stdout",
     "output_type": "stream",
     "text": [
      "You hit a  1110\n",
      "Your total currently is  11010\n",
      "Choice: 2\n",
      "Stay!\n",
      "Your total currently is  11010\n"
     ]
    },
    {
     "name": "stderr",
     "output_type": "stream",
     "text": [
      "ibmqfactory.load_account:WARNING:2023-12-12 19:45:33,094: Credentials are already in use. The existing account in the session will be replaced.\n"
     ]
    },
    {
     "name": "stdout",
     "output_type": "stream",
     "text": [
      "Dealer shows second card:  1\n",
      "Dealer has a total of  1100\n"
     ]
    },
    {
     "name": "stderr",
     "output_type": "stream",
     "text": [
      "ibmqfactory.load_account:WARNING:2023-12-12 19:45:44,366: Credentials are already in use. The existing account in the session will be replaced.\n"
     ]
    },
    {
     "name": "stdout",
     "output_type": "stream",
     "text": [
      "Dealer hits a  1001\n",
      "Dealer has a total of  10101\n",
      "You Win!\n",
      "Would you like to play again?: (yes/no)yes\n"
     ]
    },
    {
     "name": "stderr",
     "output_type": "stream",
     "text": [
      "ibmqfactory.load_account:WARNING:2023-12-12 19:46:24,237: Credentials are already in use. The existing account in the session will be replaced.\n"
     ]
    },
    {
     "name": "stdout",
     "output_type": "stream",
     "text": [
      "Dealer shows first card:  1111\n"
     ]
    },
    {
     "name": "stderr",
     "output_type": "stream",
     "text": [
      "ibmqfactory.load_account:WARNING:2023-12-12 19:46:34,930: Credentials are already in use. The existing account in the session will be replaced.\n",
      "ibmqfactory.load_account:WARNING:2023-12-12 19:46:45,663: Credentials are already in use. The existing account in the session will be replaced.\n"
     ]
    },
    {
     "name": "stdout",
     "output_type": "stream",
     "text": [
      "Your delt a  1110  and a 1000 totaling in a  10110\n",
      "Choose Option: (1) Hit, (2) Stay, (3) Double Down\n"
     ]
    }
   ],
   "source": [
    "from qiskit import QuantumRegister, ClassicalRegister, QuantumCircuit, IBMQ, transpile, assemble\n",
    "#quantum part\n",
    "def randCardGen():\n",
    "\n",
    "    provider = IBMQ.load_account()\n",
    "    backend = provider.get_backend('ibmq_qasm_simulator')    \n",
    "    \n",
    "    qr = QuantumRegister(4, 'q')\n",
    "    cr = ClassicalRegister(4, 'c')\n",
    "    circuit = QuantumCircuit(qr, cr)\n",
    "    circuit.h(qr[0])\n",
    "    circuit.h(qr[1])\n",
    "    circuit.h(qr[2])\n",
    "    circuit.h(qr[3])\n",
    "    circuit.measure(qr[0], cr[0])\n",
    "    circuit.measure(qr[1], cr[1])\n",
    "    circuit.measure(qr[2], cr[2])\n",
    "    circuit.measure(qr[3], cr[3])\n",
    "\n",
    "    transpiled = transpile(circuit, backend)\n",
    "    job = backend.run(transpiled)\n",
    "    result = job.result()\n",
    "    counts = result.get_counts()\n",
    "    randomBit = int(list(counts.keys())[0])\n",
    "\n",
    "    return randomBit\n",
    "\n",
    "def addBinary(num1, num2):\n",
    "    snum1 = str(num1)\n",
    "    snum2 = str(num2)\n",
    "    result = \"\"\n",
    "    carry = 0\n",
    "    i = len(snum1) - 1\n",
    "    j = len(snum2) - 1\n",
    "    while i >= 0 or j >= 0 or carry:\n",
    "        total = carry\n",
    "        if i >= 0:\n",
    "            total += int(snum1[i])\n",
    "            i -= 1\n",
    "        if j >= 0:\n",
    "            total += int(snum2[j])\n",
    "            j -= 1\n",
    "        result = str(total % 2) + result\n",
    "        carry = total // 2\n",
    "    return result\n",
    "\n",
    "def playerOption():\n",
    "    isUserTurn = True\n",
    "    card1 = randCardGen()\n",
    "    card2 = randCardGen()\n",
    "    cardTotal = addBinary(card1,card2)\n",
    "    \n",
    "    print(\"Your delt a \" , card1 ,\" and a\", card2, \"totaling in a \", cardTotal)\n",
    "    if int(cardTotal) == 11100:\n",
    "        print(\"QuantumJack!, You Win!\")\n",
    "        return \"qJack\"\n",
    "    print(\"Choose Option: (1) Hit, (2) Stay, (3) Double Down\")\n",
    "    while isUserTurn:\n",
    "        userIn = int(input(\"Choice: \"))\n",
    "        if userIn == 1:\n",
    "            print(\"Hit!\")\n",
    "            hitCard = randCardGen()\n",
    "            cardTotal = addBinary(cardTotal, hitCard)\n",
    "            print(\"You hit a \", hitCard)\n",
    "        elif userIn == 2:\n",
    "            print(\"Stay!\")\n",
    "            isUserTurn = False\n",
    "        elif userIn == 3:\n",
    "            print(\"Double Down!\")\n",
    "            hitCard = randCardGen()\n",
    "            print(\"You hit a \", hitCard)\n",
    "            cardTotal = addBinary(cardTotal, hitCard)\n",
    "            isUserTurn = False\n",
    "        else:\n",
    "            print(\"Incorrect Option!\")\n",
    "            \n",
    "        print(\"Your total currently is \", cardTotal)\n",
    "        if int(cardTotal) > 11100:\n",
    "            print(\"You struck out.\")\n",
    "            isUserTurn = False\n",
    "    return cardTotal\n",
    "\n",
    "def dealer(turn):\n",
    "    card = randCardGen()\n",
    "    if turn == 1:\n",
    "        print(\"Dealer shows first card: \", card)\n",
    "        return card\n",
    "    if turn == 2:\n",
    "        print(\"Dealer shows second card: \", card)\n",
    "        return card\n",
    "    if turn == 3:\n",
    "        print(\"Dealer hits a \", card)\n",
    "        return card\n",
    "    \n",
    "def playGame():\n",
    "    print(\"Here is my take on Black Jack but with Quantum Randomness!\")\n",
    "    \n",
    "    description = input(\"Would you like a description?: (yes/no)\")\n",
    "    if description == \"yes\":\n",
    "        print(\"There are cards ranging from binary 0000 to 1111 so 16 different options\")\n",
    "        print(\"Regular Black Jack has 12 different cards and the goal is 21\")\n",
    "        print(\"In my version there are 16 different cards and the goal is 28 or 11100\")\n",
    "        print(\"The dealer will not hit if their cards are 21 or greater, GoodLuck!\")\n",
    "        \n",
    "    gameInProg = True\n",
    "    while gameInProg:\n",
    "        dealTotal = addBinary(dealer(1), 0)\n",
    "        userTotal = playerOption()\n",
    "        if userTotal != \"qJack\":\n",
    "            dealTotal = addBinary(dealTotal, dealer(2))\n",
    "            print(\"Dealer has a total of \", dealTotal)\n",
    "            while int(dealTotal) <= 10100:\n",
    "                dealTotal = addBinary(dealTotal, dealer(3))\n",
    "                print(\"Dealer has a total of \", dealTotal)\n",
    "            if int(userTotal) <= 11100 and int(userTotal) > int(dealTotal):\n",
    "                print(\"You Win!\")\n",
    "            elif int(dealTotal) > 11100 and int(userTotal) <= 11100:\n",
    "                print(\"Dealer hit out!, You Win!\")\n",
    "            else:\n",
    "                print(\"Dealer Won.\")\n",
    "                \n",
    "        playAgain = input(\"Would you like to play again?: (yes/no)\")\n",
    "        if playAgain == \"no\":\n",
    "            gameInProg = False\n",
    "    print(\"Thanks for playing!\")\n",
    "\n",
    "playGame()"
   ]
  },
  {
   "cell_type": "code",
   "execution_count": null,
   "id": "516f0ba2",
   "metadata": {},
   "outputs": [],
   "source": []
  }
 ],
 "metadata": {
  "kernelspec": {
   "display_name": "Python 3 (ipykernel)",
   "language": "python",
   "name": "python3"
  },
  "language_info": {
   "codemirror_mode": {
    "name": "ipython",
    "version": 3
   },
   "file_extension": ".py",
   "mimetype": "text/x-python",
   "name": "python",
   "nbconvert_exporter": "python",
   "pygments_lexer": "ipython3",
   "version": "3.11.5"
  }
 },
 "nbformat": 4,
 "nbformat_minor": 5
}
